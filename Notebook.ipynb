{
 "cells": [
  {
   "cell_type": "markdown",
   "metadata": {},
   "source": [
    "知识点1 输出print"
   ]
  },
  {
   "cell_type": "code",
   "execution_count": 2,
   "metadata": {},
   "outputs": [
    {
     "name": "stdout",
     "output_type": "stream",
     "text": [
      "hello world\n"
     ]
    }
   ],
   "source": [
    "print (\"hello world\")"
   ]
  },
  {
   "cell_type": "code",
   "execution_count": null,
   "metadata": {},
   "outputs": [
    {
     "name": "stdout",
     "output_type": "stream",
     "text": [
      "o----\n",
      " ||||\n",
      "**********\n"
     ]
    }
   ],
   "source": [
    "print ('o----')\n",
    "print (' ||||')\n",
    "print ('*' * 10)\n",
    "#在python中print括号里可以用''或者\"\"，且执行顺序是从上到下的。"
   ]
  },
  {
   "cell_type": "markdown",
   "metadata": {},
   "source": [
    "知识点2 Variable type"
   ]
  },
  {
   "cell_type": "code",
   "execution_count": null,
   "metadata": {},
   "outputs": [],
   "source": [
    "price = 10  #integer\n",
    "rating = 4.9  #float\n",
    "name = 'jiazhen' #String\n",
    "is_published = True #boolean"
   ]
  },
  {
   "cell_type": "markdown",
   "metadata": {},
   "source": [
    "知识点2 输入input function"
   ]
  },
  {
   "cell_type": "code",
   "execution_count": 7,
   "metadata": {},
   "outputs": [
    {
     "name": "stdout",
     "output_type": "stream",
     "text": [
      "jiazhen likes blue\n"
     ]
    }
   ],
   "source": [
    "name = input('what is your name')\n",
    "favourite_color = input('what is your favourite color')\n",
    "print (name + ' likes ' +favourite_color)"
   ]
  },
  {
   "cell_type": "markdown",
   "metadata": {},
   "source": [
    "知识点3 Type conversion"
   ]
  },
  {
   "cell_type": "code",
   "execution_count": 13,
   "metadata": {},
   "outputs": [
    {
     "name": "stdout",
     "output_type": "stream",
     "text": [
      "<class 'str'>\n",
      "<class 'int'>\n",
      "24\n"
     ]
    }
   ],
   "source": [
    "birth_year = input('Birth year: ')  #此时输入到电脑中的数字并非integer类型，而是String\n",
    "age = 2025-int(birth_year)  #需要通过int（）函数来是的数据类型转换为integer\n",
    "print(type(birth_year)) #type()函数可以获得数据类型\n",
    "int()\n",
    "float()\n",
    "bool()\n",
    "print (type(age))\n",
    "print (age)\n"
   ]
  },
  {
   "cell_type": "code",
   "execution_count": null,
   "metadata": {},
   "outputs": [
    {
     "name": "stdout",
     "output_type": "stream",
     "text": [
      "Your weight_lbs is 154.0\n"
     ]
    }
   ],
   "source": [
    "weight_kg = input('weight_kg:')\n",
    "weight_lbs = int(weight_kg) * 2.2 #将string转化为integer\n",
    "weight_lbs=str(weight_lbs)  #将integer转化为String\n",
    "print ('Your weight_lbs is ' + weight_lbs)  #print只能输出String类型的数据"
   ]
  },
  {
   "cell_type": "markdown",
   "metadata": {},
   "source": [
    "知识点4 Strings"
   ]
  },
  {
   "cell_type": "code",
   "execution_count": 1,
   "metadata": {},
   "outputs": [
    {
     "name": "stdout",
     "output_type": "stream",
     "text": [
      " python's for beginner\n",
      "\n",
      "\n",
      "Hi John,\n",
      "\n",
      "Here is my first email \n",
      "\n",
      "Thank you,\n",
      "The support team\n",
      "\n"
     ]
    }
   ],
   "source": [
    "course = 'python for beginner'\n",
    "course = \" python's for beginner\"  #python可以用\"\",''来定义strings，当string中需要使用到'时，则要用\"\"来定义string。\n",
    "print(course)\n",
    "course1 = '''\n",
    "\n",
    "Hi John,\n",
    "\n",
    "Here is my first email \n",
    "\n",
    "Thank you,\n",
    "The support team\n",
    "'''#当需要定义一大段话的string时，则需要使用三引号''' '''。\n",
    "print(course1)"
   ]
  },
  {
   "cell_type": "code",
   "execution_count": 2,
   "metadata": {},
   "outputs": [
    {
     "name": "stdout",
     "output_type": "stream",
     "text": [
      "P\n",
      "s\n",
      "Pyt\n",
      "Python for Beginners\n",
      "Pytho\n",
      "Pto\n"
     ]
    }
   ],
   "source": [
    "course = 'Python for Beginners'\n",
    "\n",
    "print(course[0])  #可以使用方括号square bracket []，并给出在string当中的索引index以此来获取string当中的某个字母。\n",
    "print(course[-1]) #同时可以在索引处使用负号-，从右到左获取字母。\n",
    "print(course[0:3])#可通过0:3的形式获取多个连续字符，语法规定结束索引是3,则print时应排除第四个字符。\n",
    "print(course[0:]) #结束索引的默认值就是到string的结尾\n",
    "print(course[:5]) #开始索引的默认值就是0,应排除第六个字符。\n",
    "print(course[0:5:2]) #可以通过0:5:2的形式来获取每隔一个字符的字母。\n"
   ]
  },
  {
   "cell_type": "markdown",
   "metadata": {},
   "source": [
    "知识点5 Formatted Strings  （print当中存在变量时适合用）"
   ]
  },
  {
   "cell_type": "code",
   "execution_count": null,
   "metadata": {},
   "outputs": [
    {
     "name": "stdout",
     "output_type": "stream",
     "text": [
      "John [Smith] is my best friend\n",
      "John [Smith] is a coder\n",
      "John [Smith] is a coder\n"
     ]
    }
   ],
   "source": [
    "first = 'John'\n",
    "last = 'Smith'\n",
    "message = first +' ['+last+'] '+ 'is a coder'\n",
    "msg = f'{first} [{last}] is a coder' #当使用formatted Strings时，利用curly braces{}来动态在string当中插入变量，其余字符正常输入即可。\n",
    "ppp  = f'{first} [{last}] is my best friend'\n",
    "print(ppp)\n",
    "print(msg)\n",
    "print(message)"
   ]
  },
  {
   "cell_type": "markdown",
   "metadata": {},
   "source": [
    "知识点6 String Methods"
   ]
  },
  {
   "cell_type": "code",
   "execution_count": null,
   "metadata": {},
   "outputs": [
    {
     "name": "stdout",
     "output_type": "stream",
     "text": [
      "20\n",
      "PYTHON FOR BEGINNERS\n",
      "Python for Beginners\n",
      "python for beginners\n",
      "0\n",
      "4\n",
      "-1\n",
      "11\n",
      "Python for Absolute Beginners\n",
      "Python for Beginners\n"
     ]
    }
   ],
   "source": [
    "course = 'Python for Beginners'\n",
    "\n",
    "\n",
    "print(len(course)) #可通过len()函数用于获取字符长度\n",
    "\n",
    "print(course.upper())  #upper()是针对于string的函数，所以认定它为方法，而print，len为一般方法，所以它们是函数\n",
    "print(course) #upper()方法并没有改变原string,而是返回了一个新的String\n",
    "print(course.lower()) #lower()为将string变小写\n",
    "\n",
    "print(course.find('P'))#利用find()方法来寻找string当中某个字符的位置，P为第一个字符，故输出了一个0\n",
    "print(course.find('o')) #第一个o在第五位，故输出4\n",
    "print(course.find('k')) #由于String当中没有k，则输出-1\n",
    "print(course.find('Beginners'))\n",
    "\n",
    "print(course.replace('Beginners' , 'Absolute Beginners'))  #利用replace()方法替换string当中的字符\n",
    "print(course.replace('beginners' , 'Absolute Beginners'))  #replace()方法区分大小写\n"
   ]
  },
  {
   "cell_type": "code",
   "execution_count": 33,
   "metadata": {},
   "outputs": [
    {
     "name": "stdout",
     "output_type": "stream",
     "text": [
      "True\n",
      "False\n"
     ]
    }
   ],
   "source": [
    "course = 'Python for Beginners'\n",
    "print('Python' in course) #通过in操作符来判断字符或字符串是否属于某个String,此操作符会print出boolean Value\n",
    "print('python' in course) "
   ]
  },
  {
   "cell_type": "markdown",
   "metadata": {},
   "source": [
    "知识点7 Arithmetic Operations 算数操作符"
   ]
  },
  {
   "cell_type": "code",
   "execution_count": 4,
   "metadata": {},
   "outputs": [
    {
     "name": "stdout",
     "output_type": "stream",
     "text": [
      "3.3333333333333335\n",
      "3\n",
      "1\n",
      "1000\n"
     ]
    }
   ],
   "source": [
    "print(10 / 3)\n",
    "print(10 // 3) #取整 rounding\n",
    "print(10 % 3)  #取余 remainder\n",
    "print(10 ** 3)   #指数 exponent"
   ]
  },
  {
   "cell_type": "code",
   "execution_count": null,
   "metadata": {},
   "outputs": [
    {
     "name": "stdout",
     "output_type": "stream",
     "text": [
      "16\n"
     ]
    }
   ],
   "source": [
    "x = 10\n",
    "x = x + 3\n",
    "x += 3 # +=是agumented assignment operator ，其作用与第二行一样，减乘除也同样适用\n",
    "print(x)"
   ]
  },
  {
   "cell_type": "code",
   "execution_count": 8,
   "metadata": {},
   "outputs": [
    {
     "name": "stdout",
     "output_type": "stream",
     "text": [
      "30\n"
     ]
    }
   ],
   "source": [
    "x = 10\n",
    "x *= 3\n",
    "print(x)"
   ]
  },
  {
   "cell_type": "code",
   "execution_count": null,
   "metadata": {},
   "outputs": [
    {
     "name": "stdout",
     "output_type": "stream",
     "text": [
      "16\n",
      "22\n",
      "52\n"
     ]
    }
   ],
   "source": [
    "x = 10 + 3 * 2\n",
    "print(x)   #order of authmatic operation 1.exponentiation 2.multiplication or division 3.addition or subtraction\n",
    "y = 10 + 3 * 2 ** 2\n",
    "print(y)\n",
    "z = (10 + 3)  * 2 ** 2\n",
    "print(z)"
   ]
  },
  {
   "cell_type": "markdown",
   "metadata": {},
   "source": [
    "知识点7 Math functions"
   ]
  },
  {
   "cell_type": "code",
   "execution_count": 16,
   "metadata": {},
   "outputs": [
    {
     "name": "stdout",
     "output_type": "stream",
     "text": [
      "3\n",
      "3\n"
     ]
    }
   ],
   "source": [
    "x = 2.9\n",
    "print(round(x))  #取整函数\n",
    "y = -3\n",
    "print(abs(y))  #绝对值函数abs"
   ]
  },
  {
   "cell_type": "code",
   "execution_count": 1,
   "metadata": {},
   "outputs": [
    {
     "name": "stdout",
     "output_type": "stream",
     "text": [
      "3\n",
      "2\n"
     ]
    }
   ],
   "source": [
    "import math  #调用math模块，使用math当中的方法\n",
    "print(math.ceil(2.9))  #ceilin方法取数的上整数\n",
    "print(math.floor(2.9))  #floor是取下整数"
   ]
  },
  {
   "cell_type": "markdown",
   "metadata": {},
   "source": [
    "知识点8 if Statements"
   ]
  },
  {
   "cell_type": "code",
   "execution_count": 3,
   "metadata": {},
   "outputs": [
    {
     "name": "stdout",
     "output_type": "stream",
     "text": [
      "It's a hot day\n",
      "Enjoy your day\n"
     ]
    }
   ],
   "source": [
    "is_hot =True\n",
    " \n",
    "if is_hot:\n",
    "    print(\"It's a hot day\")\n",
    "print(\"Enjoy your day\")  #Tab+shift 结束if block"
   ]
  },
  {
   "cell_type": "code",
   "execution_count": 2,
   "metadata": {},
   "outputs": [
    {
     "name": "stdout",
     "output_type": "stream",
     "text": [
      "Enjoy your day\n"
     ]
    }
   ],
   "source": [
    "is_hot =False\n",
    " \n",
    "if is_hot:\n",
    "    print(\"It's a hot day\")\n",
    "print(\"Enjoy your day\")"
   ]
  },
  {
   "cell_type": "code",
   "execution_count": null,
   "metadata": {},
   "outputs": [
    {
     "name": "stdout",
     "output_type": "stream",
     "text": [
      "It's a cold day\n",
      "Wear warm clothes\n",
      "Enjoy your day\n"
     ]
    }
   ],
   "source": [
    "is_hot =False\n",
    " \n",
    "if is_hot:\n",
    "    print(\"It's a hot day\")\n",
    "    print(\"Drink plenty of water\")\n",
    "else:\n",
    "    print(\"It's a cold day\")\n",
    "    print(\"Wear warm clothes\")\n",
    "print(\"Enjoy your day\")  "
   ]
  },
  {
   "cell_type": "code",
   "execution_count": 21,
   "metadata": {},
   "outputs": [
    {
     "name": "stdout",
     "output_type": "stream",
     "text": [
      "It's a cold day\n",
      "Wear warm clothes\n",
      "Enjoy your day\n"
     ]
    }
   ],
   "source": [
    "is_hot =False\n",
    "is_cold = True\n",
    " \n",
    "if is_hot:\n",
    "    print(\"It's a hot day\")\n",
    "    print(\"Drink plenty of water\")\n",
    "elif is_cold:   #python 当中的else if\n",
    "    print(\"It's a cold day\")\n",
    "    print(\"Wear warm clothes\")\n",
    "else:\n",
    "    print(\"It's lovely day\")\n",
    "print(\"Enjoy your day\")  "
   ]
  },
  {
   "cell_type": "code",
   "execution_count": 22,
   "metadata": {},
   "outputs": [
    {
     "name": "stdout",
     "output_type": "stream",
     "text": [
      "It's lovely day\n",
      "Enjoy your day\n"
     ]
    }
   ],
   "source": [
    "is_hot =False\n",
    "is_cold = False\n",
    " \n",
    "if is_hot:\n",
    "    print(\"It's a hot day\")\n",
    "    print(\"Drink plenty of water\")\n",
    "elif is_cold:   #python 当中的else if\n",
    "    print(\"It's a cold day\")\n",
    "    print(\"Wear warm clothes\")\n",
    "else:\n",
    "    print(\"It's lovely day\")\n",
    "print(\"Enjoy your day\")  "
   ]
  },
  {
   "cell_type": "code",
   "execution_count": 32,
   "metadata": {},
   "outputs": [
    {
     "name": "stdout",
     "output_type": "stream",
     "text": [
      "Your down payment is: 100000.0\n",
      "Your down paymemt is: $100000.0\n"
     ]
    }
   ],
   "source": [
    "is_goodcredit = True\n",
    "house_price=1000000\n",
    "if is_goodcredit:\n",
    "    payment_down=house_price*0.1\n",
    "else:\n",
    "    payment_down=house_price*0.2\n",
    "print(\"Your down payment is: \" + str(payment_down))\n",
    "print(f\"Your down paymemt is: ${payment_down}\")  #当print当中有变量时，使用formatted strings更简便"
   ]
  },
  {
   "cell_type": "markdown",
   "metadata": {},
   "source": [
    "知识点9 Logical Operators 逻辑运算符"
   ]
  },
  {
   "cell_type": "code",
   "execution_count": null,
   "metadata": {},
   "outputs": [],
   "source": [
    "has_high_income = False\n",
    "has_good_credit = True\n",
    "if has_high_income and has_good_credit:  #逻辑运算符and,两者都符合才执行if内的语句\n",
    "    print(\"Eligible for loan\")\n"
   ]
  },
  {
   "cell_type": "code",
   "execution_count": null,
   "metadata": {},
   "outputs": [
    {
     "name": "stdout",
     "output_type": "stream",
     "text": [
      "Eligibale for loan\n"
     ]
    }
   ],
   "source": [
    "has_high_income = True\n",
    "has_good_credit = False\n",
    "if has_good_credit or has_high_income: #逻辑运算符or，至少有一个条件为真则执行if内的语句\n",
    "    print(\"Eligibale for loan\")"
   ]
  },
  {
   "cell_type": "code",
   "execution_count": null,
   "metadata": {},
   "outputs": [
    {
     "name": "stdout",
     "output_type": "stream",
     "text": [
      "Eligibale for loan\n"
     ]
    }
   ],
   "source": [
    "has_good_credit = True\n",
    "has_criminal_record = False\n",
    "if has_good_credit and not has_criminal_record:   #逻辑运算符not 将boolean值变成相反的值\n",
    "    print(\"Eligibale for loan\")"
   ]
  },
  {
   "cell_type": "markdown",
   "metadata": {},
   "source": [
    "知识点10 Comparison Operators 比较运算符"
   ]
  },
  {
   "cell_type": "code",
   "execution_count": null,
   "metadata": {},
   "outputs": [
    {
     "name": "stdout",
     "output_type": "stream",
     "text": [
      "It's not hot day\n"
     ]
    }
   ],
   "source": [
    "temperature = 30 \n",
    "if temperature > 30:    #此处会产生一个boolean expression\n",
    "    print(\"It's a hot day\")\n",
    "else:\n",
    "    print(\"It's not hot day\")"
   ]
  },
  {
   "cell_type": "code",
   "execution_count": 9,
   "metadata": {},
   "outputs": [
    {
     "name": "stdout",
     "output_type": "stream",
     "text": [
      "It's a hot day\n"
     ]
    }
   ],
   "source": [
    "temperature = 30 \n",
    "if temperature >= 30:\n",
    "    print(\"It's a hot day\")\n",
    "else:\n",
    "    print(\"It's not hot day\")"
   ]
  },
  {
   "cell_type": "code",
   "execution_count": 10,
   "metadata": {},
   "outputs": [
    {
     "name": "stdout",
     "output_type": "stream",
     "text": [
      "It's a hot day\n"
     ]
    }
   ],
   "source": [
    "temperature = 30 \n",
    "if temperature == 30:\n",
    "    print(\"It's a hot day\")\n",
    "else:\n",
    "    print(\"It's not hot day\")"
   ]
  },
  {
   "cell_type": "code",
   "execution_count": 11,
   "metadata": {},
   "outputs": [
    {
     "name": "stdout",
     "output_type": "stream",
     "text": [
      "It's not hot day\n"
     ]
    }
   ],
   "source": [
    "temperature = 30 \n",
    "if temperature != 30:\n",
    "    print(\"It's a hot day\")\n",
    "else:\n",
    "    print(\"It's not hot day\")"
   ]
  },
  {
   "cell_type": "code",
   "execution_count": 15,
   "metadata": {},
   "outputs": [
    {
     "name": "stdout",
     "output_type": "stream",
     "text": [
      "name must be at least 3 characters\n"
     ]
    }
   ],
   "source": [
    "name = 'ai'  #Strings在何处都要加引号\n",
    "length_name=len(name)\n",
    "if length_name < 3:\n",
    "    print(\"name must be at least 3 characters\")\n",
    "elif length_name >50:\n",
    "    print(\"name can be a maximum of 50 characters\")\n",
    "else:\n",
    "    print(\"name looks good!\")"
   ]
  },
  {
   "cell_type": "markdown",
   "metadata": {},
   "source": [
    "Project:Weight Converter"
   ]
  },
  {
   "cell_type": "code",
   "execution_count": 3,
   "metadata": {},
   "outputs": [
    {
     "name": "stdout",
     "output_type": "stream",
     "text": [
      "You are 77.18 Kg\n"
     ]
    }
   ],
   "source": [
    "weight = input(\"Weight:\")\n",
    "Ways_weight = input(\"(L)bs or (K)g:\")\n",
    "if Ways_weight == \"k\" or Ways_weight == \"K\":\n",
    "    weight = int(weight) * 2.2\n",
    "    print(f\"You are {weight} pounds\")\n",
    "elif Ways_weight == \"L\" or Ways_weight == \"l\":\n",
    "    weight = int(weight) * 0.454\n",
    "    print(f\"You are {weight} Kg\")"
   ]
  },
  {
   "cell_type": "markdown",
   "metadata": {},
   "source": [
    "更优解法"
   ]
  },
  {
   "cell_type": "code",
   "execution_count": 6,
   "metadata": {},
   "outputs": [
    {
     "name": "stdout",
     "output_type": "stream",
     "text": [
      "You are 77.18 Kg\n"
     ]
    }
   ],
   "source": [
    "weight = input(\"Weight:\")\n",
    "Ways_weight = input(\"(L)bs or (K)g:\")\n",
    "if Ways_weight.upper() == \"K\":\n",
    "    weight = int(weight) * 2.2\n",
    "    print(f\"You are {weight} pounds\")\n",
    "elif Ways_weight.lower() == \"l\":\n",
    "    weight = int(weight) * 0.454\n",
    "    print(f\"You are {weight} Kg\")"
   ]
  },
  {
   "cell_type": "markdown",
   "metadata": {},
   "source": [
    "知识点11  While Loops"
   ]
  },
  {
   "cell_type": "code",
   "execution_count": null,
   "metadata": {},
   "outputs": [
    {
     "name": "stdout",
     "output_type": "stream",
     "text": [
      "*\n",
      "**\n",
      "***\n",
      "****\n",
      "*****\n",
      "Done\n"
     ]
    }
   ],
   "source": [
    "i = 1\n",
    "while i<=5: #while loop当while后面的条件为真时，执行循环内的语句\n",
    "    print('*' * i)\n",
    "    i += 1\n",
    "print(\"Done\")"
   ]
  },
  {
   "cell_type": "code",
   "execution_count": 12,
   "metadata": {},
   "outputs": [
    {
     "name": "stdout",
     "output_type": "stream",
     "text": [
      "Sorry, you failed!\n"
     ]
    }
   ],
   "source": [
    "secret_number = 9\n",
    "guess_number = 0\n",
    "guess_limit = 3\n",
    "while guess_number < guess_limit:\n",
    "    guess = int(input(\"Guess: \"))\n",
    "    guess_number += 1\n",
    "    if guess == secret_number:\n",
    "        print(\"You win!\")\n",
    "        break   #break用于结束循环\n",
    "else:\n",
    "    print(\"Sorry, you failed!\")"
   ]
  },
  {
   "cell_type": "markdown",
   "metadata": {},
   "source": [
    "练习：Car Game"
   ]
  },
  {
   "cell_type": "code",
   "execution_count": 15,
   "metadata": {},
   "outputs": [
    {
     "name": "stdout",
     "output_type": "stream",
     "text": [
      "start - to start the car\n",
      "stop - to stop the car\n",
      "quit - to exit\n",
      "Car started...Ready to go!\n",
      "I don't understand that...\n",
      "Car stopped.\n"
     ]
    }
   ],
   "source": [
    "status = True\n",
    "while status == True: #此处的while loop是一个无限循环，因为while后面的条件永远为真。\n",
    "    user_input = input(\">\")  #此处的while loop是一个无限循环，因为while后面的条件永远为真\n",
    "    if user_input.lower() == \"help\":\n",
    "        print(\"start - to start the car\")\n",
    "        print(\"stop - to stop the car\")\n",
    "        print(\"quit - to exit\")\n",
    "    elif user_input.lower() == \"start\":\n",
    "        print(\"Car started...Ready to go!\")\n",
    "    elif user_input.lower() == \"stop\":\n",
    "        print(\"Car stopped.\")\n",
    "    elif user_input.lower() == \"quit\":\n",
    "        break\n",
    "    else:\n",
    "        print(\"I don't understand that...\")"
   ]
  },
  {
   "cell_type": "markdown",
   "metadata": {},
   "source": [
    "更优解法"
   ]
  },
  {
   "cell_type": "code",
   "execution_count": 21,
   "metadata": {},
   "outputs": [
    {
     "name": "stdout",
     "output_type": "stream",
     "text": [
      " \n",
      "start - to start the car\n",
      "stop - to stop the car\n",
      "quit - to exit\n",
      "        \n",
      "Car started...\n",
      "Car started...\n",
      "Car stopped.\n"
     ]
    }
   ],
   "source": [
    "while True: #此处将while loop的条件设置为True，使得while loop成为一个无限循环，直至 break 条件满足。\n",
    "    command = input(\">\").lower() #此处将用户输入的字符直接全部转化为小写，以避免每个 if 条件内都要加入lower()方法。\n",
    "    if command == \"start\":\n",
    "        print(\"Car started...\")\n",
    "    elif command == \"stop\":\n",
    "        print(\"Car stopped.\")\n",
    "    elif command == \"help\":\n",
    "        print(\"\"\" \n",
    "start - to start the car\n",
    "stop - to stop the car\n",
    "quit - to exit\n",
    "        \"\"\") #通过三引号''' '''来定义多行字符串\n",
    "    elif command == \"quit\":\n",
    "        break\n",
    "    else:\n",
    "        print(\"I don't understand that...\")"
   ]
  },
  {
   "cell_type": "markdown",
   "metadata": {},
   "source": [
    "当第二次输入相同的指令时，能够输出不同的答案"
   ]
  },
  {
   "cell_type": "code",
   "execution_count": null,
   "metadata": {},
   "outputs": [
    {
     "name": "stdout",
     "output_type": "stream",
     "text": [
      "Car is already stopped!\n",
      "Car started...\n",
      "Car is already started!\n",
      "Car stopped.\n",
      "Car is already stopped!\n"
     ]
    }
   ],
   "source": [
    "start_status = False  #通过设置一个boolean值来判断car的状态，Ture为车子已启动，False 为车子已停下，以实现当输入两次 start或者 stop 时能有不同的输出。\n",
    "while True: #此处将while loop的条件设置为True，使得while loop成为一个无限循环，直至 break 条件满足。\n",
    "    command = input(\">\").lower() #此处将用户输入的字符直接全部转化为小写，以避免每个 if 条件内都要加入lower()方法。\n",
    "    if command == \"start\":\n",
    "        if start_status == False:    #或者可以直接写成 if not start_status: 代表的是start_status为False时，执行if内的语句，如果是 if start_status: 则代表start_status为True时，执行if内的语句。\n",
    "            print(\"Car started...\")\n",
    "            start_status = True\n",
    "        else:\n",
    "            print(\"Car is already started!\")\n",
    "    elif command == \"stop\":\n",
    "        if start_status == True:\n",
    "            print(\"Car stopped.\")\n",
    "            start_status = False\n",
    "        else:\n",
    "            print(\"Car is already stopped!\")\n",
    "    elif command == \"help\":\n",
    "        print(\"\"\" \n",
    "start - to start the car\n",
    "stop - to stop the car\n",
    "quit - to exit\n",
    "        \"\"\") #通过三引号''' '''来定义多行字符串\n",
    "    elif command == \"quit\":\n",
    "        break\n",
    "    else:\n",
    "        print(\"I don't understand that...\")"
   ]
  },
  {
   "cell_type": "markdown",
   "metadata": {},
   "source": [
    "知识点 12 For Loops"
   ]
  },
  {
   "cell_type": "code",
   "execution_count": 1,
   "metadata": {},
   "outputs": [
    {
     "name": "stdout",
     "output_type": "stream",
     "text": [
      "P\n",
      "y\n",
      "t\n",
      "h\n",
      "o\n",
      "n\n"
     ]
    }
   ],
   "source": [
    "for item in 'Python':  #for loop 用于遍历string当中的每一个字符  \n",
    "    print(item)"
   ]
  },
  {
   "cell_type": "code",
   "execution_count": 2,
   "metadata": {},
   "outputs": [
    {
     "name": "stdout",
     "output_type": "stream",
     "text": [
      "Mosh\n",
      "John\n",
      "Sarah\n"
     ]
    }
   ],
   "source": [
    "for item in ['Mosh', 'John', 'Sarah']:  #for loop 用于遍历list当中的每一个元素\n",
    "    print(item)"
   ]
  },
  {
   "cell_type": "code",
   "execution_count": 5,
   "metadata": {},
   "outputs": [
    {
     "name": "stdout",
     "output_type": "stream",
     "text": [
      "5\n",
      "6\n",
      "7\n",
      "8\n",
      "9\n"
     ]
    }
   ],
   "source": [
    "for item in range(5,10):  #range()函数用于生成一个数字序列，从5开始，到10结束，但不包括10\n",
    "    print(item)"
   ]
  },
  {
   "cell_type": "code",
   "execution_count": 6,
   "metadata": {},
   "outputs": [
    {
     "name": "stdout",
     "output_type": "stream",
     "text": [
      "0\n",
      "1\n",
      "2\n",
      "3\n",
      "4\n",
      "5\n",
      "6\n",
      "7\n",
      "8\n",
      "9\n"
     ]
    }
   ],
   "source": [
    "for item in range(10):  #range()函数用于生成一个数字序列，从0开始，到10结束，但不包括10\n",
    "    print(item)"
   ]
  },
  {
   "cell_type": "code",
   "execution_count": 7,
   "metadata": {},
   "outputs": [
    {
     "name": "stdout",
     "output_type": "stream",
     "text": [
      "5\n",
      "7\n",
      "9\n"
     ]
    }
   ],
   "source": [
    "for item in range(5,10,2):  #range()函数用于生成一个数字序列，从5开始，到10结束，但不包括10，步长为2\n",
    "    print(item)"
   ]
  },
  {
   "cell_type": "code",
   "execution_count": null,
   "metadata": {},
   "outputs": [
    {
     "name": "stdout",
     "output_type": "stream",
     "text": [
      "Total: 60\n"
     ]
    }
   ],
   "source": [
    "total_cost = 0\n",
    "prices = [10,20,30]\n",
    "for cost in prices:  #for loop 用于遍历list当中的每一个元素\n",
    "    total_cost += cost\n",
    "print(f\"Total: {total_cost}\")  #通过for loop来计算lit当中的元素的总和"
   ]
  },
  {
   "cell_type": "markdown",
   "metadata": {},
   "source": [
    "知识点 13 Nested loop"
   ]
  },
  {
   "cell_type": "code",
   "execution_count": null,
   "metadata": {},
   "outputs": [
    {
     "name": "stdout",
     "output_type": "stream",
     "text": [
      "(0, 0)\n",
      "(0, 1)\n",
      "(0, 2)\n",
      "(1, 0)\n",
      "(1, 1)\n",
      "(1, 2)\n",
      "(2, 0)\n",
      "(2, 1)\n",
      "(2, 2)\n",
      "(3, 0)\n",
      "(3, 1)\n",
      "(3, 2)\n"
     ]
    }
   ],
   "source": [
    "for x in range(4):  #通过for loop嵌套来打印坐标\n",
    "    for y in range(3):  \n",
    "        print(f\"({x}, {y})\")"
   ]
  },
  {
   "cell_type": "code",
   "execution_count": null,
   "metadata": {},
   "outputs": [
    {
     "name": "stdout",
     "output_type": "stream",
     "text": [
      "XXXXX\n",
      "XX\n",
      "XXXXX\n",
      "XX\n",
      "XX\n"
     ]
    }
   ],
   "source": [
    "numbers =[5,2,5,2,2] #此方法是通过用String乘以对应的数量来生成。\n",
    "for x in numbers:\n",
    "    print(\"X\"*x)"
   ]
  },
  {
   "cell_type": "code",
   "execution_count": null,
   "metadata": {},
   "outputs": [
    {
     "name": "stdout",
     "output_type": "stream",
     "text": [
      "\n",
      "\n",
      "XXXXX\n",
      "\n",
      "XX\n",
      "\n",
      "XXXXX\n",
      "\n",
      "XX\n",
      "\n",
      "XX"
     ]
    }
   ],
   "source": [
    "numbers = [5,2,5,2,2] #不能使用String乘以对应数量，则应当采用嵌套循环来直接生成对应的String。\n",
    "for x in numbers:\n",
    "    print('\\n')\n",
    "    for y in range(x):\n",
    "        print(\"X\", end='')"
   ]
  },
  {
   "cell_type": "code",
   "execution_count": null,
   "metadata": {},
   "outputs": [
    {
     "name": "stdout",
     "output_type": "stream",
     "text": [
      "XXXXX\n",
      "XX\n",
      "XXXXX\n",
      "XX\n",
      "XX\n"
     ]
    }
   ],
   "source": [
    "numbers = [5,2,5,2,2] #不能使用String乘以对应数量，则应当采用嵌套循环来直接生成对应的String。\n",
    "for x in numbers:\n",
    "    output1 = 'XXXXX'\n",
    "    output2 = 'XX'\n",
    "    for y in range(1):\n",
    "        if x == 5:\n",
    "            print(output1)\n",
    "        else:\n",
    "            print(output2)"
   ]
  },
  {
   "cell_type": "markdown",
   "metadata": {},
   "source": [
    "最优解法"
   ]
  },
  {
   "cell_type": "code",
   "execution_count": null,
   "metadata": {},
   "outputs": [
    {
     "name": "stdout",
     "output_type": "stream",
     "text": [
      "XXXXX\n",
      "XX\n",
      "XXXXX\n",
      "XX\n",
      "XX\n"
     ]
    }
   ],
   "source": [
    "numbers = [5,2,5,2,2]\n",
    "for x_count in numbers:\n",
    "    output = ''  #内循环结束后，会重设 output 字符串为空字符\n",
    "    for count in range(x_count): #内循环会循环 x_count次\n",
    "        output += 'X' #没办法用 String 相乘数字，咱们可以用 String加 String 啊！！！！！\n",
    "    print(output)"
   ]
  },
  {
   "cell_type": "code",
   "execution_count": 16,
   "metadata": {},
   "outputs": [
    {
     "name": "stdout",
     "output_type": "stream",
     "text": [
      "X\n",
      "X\n",
      "X\n",
      "X\n",
      "X\n",
      "X\n",
      "XXXXXXXXXXXX\n"
     ]
    }
   ],
   "source": [
    "numbers = [1,1,1,1,1,1,12]\n",
    "for x_count in numbers:\n",
    "    output = ''  #内循环结束后，会重设 output 字符串为空字符\n",
    "    for count in range(x_count): #内循环会循环 x_count次\n",
    "        output += 'X' #没办法用 String 相乘数字，咱们可以用 String加 String 啊！！！！！\n",
    "    print(output)"
   ]
  },
  {
   "cell_type": "markdown",
   "metadata": {},
   "source": [
    "知识点 14 Lists"
   ]
  },
  {
   "cell_type": "code",
   "execution_count": null,
   "metadata": {},
   "outputs": [
    {
     "name": "stdout",
     "output_type": "stream",
     "text": [
      "['John', 'Bob', 'Mosh', 'Sarah', 'Mary']\n",
      "John\n",
      "Sarah\n",
      "['John', 'Bob', 'Mosh']\n",
      "['Mosh', 'Sarah', 'Mary']\n",
      "Sarah\n"
     ]
    }
   ],
   "source": [
    "name = ['John', 'Bob', 'Mosh', 'Sarah', 'Mary']\n",
    "print(name) #print()函数可以直接打印list\n",
    "print(name[0]) #可以通过索引来获取list当中的元素\n",
    "print(name[3]) \n",
    "print(name[0:3]) #可以开始索引和结束索引来获取list当中的多个元素，语法规定开始索引是0，结束索引是3,则print时应排除第四个元素。\n",
    "print(name[2:]) #结束索引的默认值就是到list的结尾\n",
    "print(name[-2]) #可以通过负号索引来获取list当中从右向左的元素"
   ]
  },
  {
   "cell_type": "code",
   "execution_count": 8,
   "metadata": {},
   "outputs": [
    {
     "name": "stdout",
     "output_type": "stream",
     "text": [
      "Jon\n"
     ]
    }
   ],
   "source": [
    "name = ['John', 'Bob', 'Mosh', 'Sarah', 'Mary']\n",
    "name[0] = 'Jon'  #可以通过索引来修改list当中的元素\n",
    "print(name[0])"
   ]
  },
  {
   "cell_type": "markdown",
   "metadata": {},
   "source": [
    "Exercise:Write a program to find the largest number in a list"
   ]
  },
  {
   "cell_type": "code",
   "execution_count": 14,
   "metadata": {},
   "outputs": [
    {
     "name": "stdout",
     "output_type": "stream",
     "text": [
      "The largest number is:46\n"
     ]
    }
   ],
   "source": [
    "numbers= [1, 4, 22, 46, 18, 3]\n",
    "larger_number = numbers[0]  #可以通过索引来获取list当中的元素\n",
    "for number in numbers:\n",
    "    transfer_number = number\n",
    "    if larger_number < transfer_number:\n",
    "        larger_number = transfer_number\n",
    "print(f'The largest number is:{larger_number}')"
   ]
  },
  {
   "cell_type": "markdown",
   "metadata": {},
   "source": [
    "2D Lists"
   ]
  },
  {
   "cell_type": "code",
   "execution_count": null,
   "metadata": {},
   "outputs": [
    {
     "name": "stdout",
     "output_type": "stream",
     "text": [
      "2\n"
     ]
    }
   ],
   "source": [
    "matrix =[\n",
    "    [1, 2, 3],\n",
    "    [4, 5, 6],\n",
    "    [7, 8, 9]\n",
    "]\n",
    "matrix[0][1] = 20 #可以通过索引来修改list当中的元素\n",
    "print(matrix[0][1]) #第一个索引代表第一行元素，第二个索引代表第二列元素"
   ]
  },
  {
   "cell_type": "code",
   "execution_count": 17,
   "metadata": {},
   "outputs": [
    {
     "name": "stdout",
     "output_type": "stream",
     "text": [
      "[1, 2, 3]\n",
      "1\n",
      "2\n",
      "3\n",
      "[4, 5, 6]\n",
      "4\n",
      "5\n",
      "6\n",
      "[7, 8, 9]\n",
      "7\n",
      "8\n",
      "9\n"
     ]
    }
   ],
   "source": [
    "matrix =[\n",
    "    [1, 2, 3],\n",
    "    [4, 5, 6],\n",
    "    [7, 8, 9]\n",
    "]\n",
    "for row in matrix:\n",
    "    print(row)  #通过for loop来遍历list当中的每一行元素\n",
    "    for item in row:\n",
    "        print(item)"
   ]
  },
  {
   "cell_type": "markdown",
   "metadata": {},
   "source": [
    "List Method 列表方法"
   ]
  },
  {
   "cell_type": "code",
   "execution_count": null,
   "metadata": {},
   "outputs": [
    {
     "name": "stdout",
     "output_type": "stream",
     "text": [
      "[5, 2, 1, 7, 4, 5, 20]\n",
      "[10, 5, 2, 1, 7, 4, 5, 20]\n",
      "[10, 2, 1, 7, 4, 5, 20]\n",
      "[]\n",
      "[5, 2, 1, 7, 4]\n",
      "0\n",
      "5\n",
      "False\n",
      "2\n",
      "None\n",
      "[1, 2, 4, 5, 5, 7]\n"
     ]
    }
   ],
   "source": [
    "numbers = [5, 2, 1, 7, 4, 5]\n",
    "numbers.append(20)  #append()方法用于在list的末尾添加元素 \n",
    "print(numbers)\n",
    "\n",
    "numbers.insert(0, 10)  #insert()方法用于在list的指定位置添加元素,第一个索引代表添加元素的位置，第二个参数代表添加的元素.\n",
    "print(numbers)\n",
    "\n",
    "numbers.remove(5)  #remove()方法用于删除list当中的元素,remove(5)代表删除list当中的第一个5\n",
    "print(numbers)\n",
    "\n",
    "numbers.clear()  #clear()方法用于清空list当中的所有元素\n",
    "print(numbers)      \n",
    "\n",
    "numbers = [5, 2, 1, 7, 4, 5]\n",
    "numbers.pop()  #pop()方法用于删除list当中的最后一个元素\n",
    "print(numbers)  \n",
    "\n",
    "numbers = [5, 2, 1, 7, 4, 5]\n",
    "print(numbers.index(5))  #index()方法用于获取list当中某个元素的索引，index(5)代表获取list当中第一个5的索引，index 方法可以检查list当中是否有该元素\n",
    "print(numbers.index(5, 1))  #index(5, 1)代表从索引1开始查找list当中的5的索引。\n",
    "\n",
    "print(50 in numbers)  #in操作符用于判断list当中是否有该元素\n",
    "\n",
    "print(numbers.count(5))  #count()方法用于获取list当中某个元素的数量，count(5)代表获取list当中5的数量,并返回数量值。\n",
    "\n",
    "\n",
    "\n"
   ]
  },
  {
   "cell_type": "code",
   "execution_count": 41,
   "metadata": {},
   "outputs": [
    {
     "name": "stdout",
     "output_type": "stream",
     "text": [
      "None\n",
      "[1, 2, 4, 5, 5, 7]\n",
      "[7, 5, 5, 4, 2, 1]\n",
      "[7, 5, 5, 4, 2, 1]\n",
      "[5, 2, 1, 7, 4, 5]\n",
      "[5, 2, 1, 7, 4, 5]\n",
      "[5, 2, 1, 7, 4, 5, 10]\n"
     ]
    }
   ],
   "source": [
    "numbers = [5, 2, 1, 7, 4, 5]\n",
    "print(numbers.sort())  #sort()方法用于对list当中的元素进行排序，默认是从小到大,会输出None，None代表没有返回值，此处的 sort()仅仅是对list当中的元素进行排序，没有返回值\n",
    "print(numbers)  #sort()方法会直接改变原list的顺序\n",
    "\n",
    "numbers = [5, 2, 1, 7, 4, 5]\n",
    "numbers.sort(reverse=True)  #sort(reverse=True)方法用于对list当中的元素进行排序，reverse=True代表从大到小排序\n",
    "print(numbers)  \n",
    "\n",
    "numbers = [5, 2, 1, 7, 4, 5]\n",
    "numbers.sort()\n",
    "numbers.reverse()  #reverse()方法用于对list当中的元素进行反转,结合 sort()相当于从大到小排序\n",
    "print(numbers)  \n",
    "\n",
    "numbers = [5, 2, 1, 7, 4, 5]\n",
    "numbers2 = numbers.copy()  #copy()方法用于复制list当中的元素\n",
    "print(numbers2)\n",
    "numbers.append(10)  #append()方法并不会影响到numbers2\n",
    "print(numbers2)\n",
    "print(numbers)"
   ]
  },
  {
   "cell_type": "markdown",
   "metadata": {},
   "source": [
    "Exercise Write a program to remove duplicates in a lists."
   ]
  },
  {
   "cell_type": "code",
   "execution_count": 44,
   "metadata": {},
   "outputs": [
    {
     "name": "stdout",
     "output_type": "stream",
     "text": [
      "[2, 1, 5, 4, 7]\n"
     ]
    }
   ],
   "source": [
    "numbers = [5, 2, 1, 4, 7, 4, 5, 4, 7]\n",
    "\n",
    "for number in numbers:  #for loop 用于遍历list当中的每一个元素\n",
    "    if numbers.count(number) > 1:\n",
    "        for i in range(numbers.count(number)-1):\n",
    "            numbers.remove(number)\n",
    "print(numbers)\n",
    "\n",
    "\n"
   ]
  },
  {
   "cell_type": "markdown",
   "metadata": {},
   "source": [
    "方法 2"
   ]
  },
  {
   "cell_type": "code",
   "execution_count": 45,
   "metadata": {},
   "outputs": [
    {
     "name": "stdout",
     "output_type": "stream",
     "text": [
      "[5, 2, 1, 4, 7]\n"
     ]
    }
   ],
   "source": [
    "numbers = [5, 2, 1, 4, 7, 4, 5, 4, 7]\n",
    "uniques = []\n",
    "for number in numbers:\n",
    "    if number not in uniques:  #not in 代表不在list当中\n",
    "        uniques.append(number)  \n",
    "print(uniques)"
   ]
  }
 ],
 "metadata": {
  "kernelspec": {
   "display_name": "Python 3",
   "language": "python",
   "name": "python3"
  },
  "language_info": {
   "codemirror_mode": {
    "name": "ipython",
    "version": 3
   },
   "file_extension": ".py",
   "mimetype": "text/x-python",
   "name": "python",
   "nbconvert_exporter": "python",
   "pygments_lexer": "ipython3",
   "version": "3.8.9"
  }
 },
 "nbformat": 4,
 "nbformat_minor": 2
}
